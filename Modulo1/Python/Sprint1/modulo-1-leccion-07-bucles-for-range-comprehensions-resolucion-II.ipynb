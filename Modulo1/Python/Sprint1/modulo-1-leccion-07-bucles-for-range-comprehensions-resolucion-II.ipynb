{
 "cells": [
  {
   "cell_type": "markdown",
   "metadata": {},
   "source": [
    "# Resolución ejercicios Bucles for"
   ]
  },
  {
   "cell_type": "markdown",
   "metadata": {
    "id": "5PcBreuKcX1-"
   },
   "source": [
    "\n",
    "---\n",
    "\n",
    "\n",
    "## Ejercicios: for, continue, break, pass\n",
    "\n",
    "1. Dado el siguiente *string*: \n",
    "    ```python\n",
    "    palabra = \"Python\"\n",
    "    ```\n",
    "\n",
    "    Cread un código que nos printee todas las letras menos la \"P\" usando la sentencia `continue`\n",
    "\n",
    "  2. De la frase `'Hello'` imprime todas las letras que no sean una `'l'` usando `if`.\n",
    "  3. Haz lo mismo que en 2) usando `continue`.\n",
    "  4. De la frase `'Hello'` imprime todas las letras parando el bucle si encuentras una `'o'`.\n",
    "\n",
    "---\n",
    "\n"
   ]
  },
  {
   "cell_type": "code",
   "execution_count": 3,
   "metadata": {},
   "outputs": [
    {
     "name": "stdout",
     "output_type": "stream",
     "text": [
      "1.\n",
      "A\n",
      "n\n",
      "n\n",
      "e\n",
      "\n",
      "2.\n",
      "H\n",
      "e\n",
      "o\n",
      "\n",
      "3.\n",
      "H\n",
      "e\n",
      "o\n",
      "\n",
      "4.\n",
      "H\n",
      "e\n",
      "l\n",
      "l\n"
     ]
    }
   ],
   "source": [
    "# 1.\n",
    "print(\"1.\")\n",
    "cadena = 'Python'\n",
    "for letra in cadena:\n",
    "    if letra == 'P':\n",
    "        continue\n",
    "    print(letra)\n",
    "\n",
    "\n",
    "# 2.\n",
    "print('2.')\n",
    "for x in 'Hello':\n",
    "    if x != 'l':\n",
    "        print(x)\n",
    "print() \n",
    "\n",
    "# 3.\n",
    "print('3.')\n",
    "for x in 'Hello':\n",
    "    if x == 'l':\n",
    "        continue    \n",
    "    print(x)\n",
    "\n",
    "# 4.\n",
    "print('4.')\n",
    "for x in 'Hello':\n",
    "    if x == 'o':\n",
    "        break\n",
    "    print(x)"
   ]
  },
  {
   "cell_type": "markdown",
   "metadata": {},
   "source": [
    "---\n",
    "\n",
    "## Ejercicios `try:` `except:` `else:` `finally:`\n",
    "\n",
    "- `try:`, `except:`\n",
    "\n",
    "    5. Define  la variable `doce = '12'` y `seis = 6`. Intenta sumarlos. En el caso de que te salga un error imprime `'¡Un error!'`. Para eso usa un `try` ... `except`\n",
    "    6. Basándonos en el ejercicio anterior, sin usar un `try` ... `except`, ¿cómo podríamos solucionar el problema? \n",
    "    7. En el ejercicio 2, usamos un `try` ... `except` para solucionar el ejercicio. ¿Cómo lo podríamos hacer un if? \n",
    "\n",
    "- `else:`, `finally:`\n",
    "\n",
    "    8. En el caso de que el 5. te salga sin errores, querrás imprimir `'Todo bien por aquí.'` Cambia la variable `doce` para llegar a imprimirlo.\n",
    "---"
   ]
  },
  {
   "cell_type": "code",
   "execution_count": 12,
   "metadata": {},
   "outputs": [
    {
     "name": "stdout",
     "output_type": "stream",
     "text": [
      "5.\n",
      "Un error\n",
      "6.\n",
      "18\n",
      "7.\n",
      "lo siento estas intentando sumar dos variables que no son numeros\n",
      "8.\n",
      "18\n",
      "Todo fue bien\n"
     ]
    }
   ],
   "source": [
    "print(\"5.\")\n",
    "doce = \"12\"\n",
    "seis = 6\n",
    "\n",
    "try:\n",
    "    doce + seis\n",
    "except: \n",
    "    print(\"Un error\")\n",
    "\n",
    "\n",
    "print(\"6.\")\n",
    "print(int(doce) + int(seis))\n",
    "\n",
    "print(\"7.\")\n",
    "if type(doce) != int or type(seis) != int:\n",
    "    print(\"lo siento estas intentando sumar dos variables que no son numeros\")\n",
    "    \n",
    "else:\n",
    "    print(doce + seis)\n",
    "\n",
    "print(\"8.\")\n",
    "try:\n",
    "   print( int(doce) + int(seis))\n",
    "except: \n",
    "    print(\"Un error\")\n",
    "finally: \n",
    "    print(\"Todo fue bien\")\n"
   ]
  }
 ],
 "metadata": {
  "kernelspec": {
   "display_name": "Python 3.6.9 64-bit",
   "language": "python",
   "name": "python3"
  },
  "language_info": {
   "codemirror_mode": {
    "name": "ipython",
    "version": 3
   },
   "file_extension": ".py",
   "mimetype": "text/x-python",
   "name": "python",
   "nbconvert_exporter": "python",
   "pygments_lexer": "ipython3",
   "version": "3.6.9"
  },
  "orig_nbformat": 4,
  "vscode": {
   "interpreter": {
    "hash": "31f2aee4e71d21fbe5cf8b01ff0e069b9275f58929596ceb00d14d90e3e16cd6"
   }
  }
 },
 "nbformat": 4,
 "nbformat_minor": 2
}
