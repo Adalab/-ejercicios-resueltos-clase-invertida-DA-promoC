{
 "cells": [
  {
   "cell_type": "markdown",
   "metadata": {},
   "source": [
    "# Resolución ejercicios Bucles for"
   ]
  },
  {
   "cell_type": "markdown",
   "metadata": {},
   "source": [
    "---\n",
    "\n",
    "\n",
    "## Ejercicios: for\n",
    "\n",
    "\n",
    "- Usando la siguiente lista: \n",
    "\n",
    "  ```python\n",
    "  temperaturas = [23, 12, 37, 33, 1, 6, 15]\n",
    "  ```\n",
    "\n",
    "  1. Cread tres listas nuevas, donde: \n",
    "     1. En la primera tengamos temperaturas entre 0 - 10\n",
    "     2. En la segunda tengamos temperaturas entre 11- 20\n",
    "     3. En la tercera tengamos temperaturas por encima de 20\n",
    "   \n",
    "  2. Las temperaturas están grados centígrados. Convertid las temperaturas a grados fahrenheit\n",
    "\n",
    "      ```\n",
    "      # la relacion de grados celsius y fahrenheit es:\n",
    "      (0 °C × 9 / 5) + 32 = 32 °F\n",
    "      ```\n",
    "\n",
    "---"
   ]
  },
  {
   "cell_type": "code",
   "execution_count": 6,
   "metadata": {},
   "outputs": [
    {
     "name": "stdout",
     "output_type": "stream",
     "text": [
      "1.\n",
      "[1, 6]\n",
      "[12, 15]\n",
      "[23, 37, 33]\n"
     ]
    }
   ],
   "source": [
    "print(\"1.\")\n",
    "temperaturas = [23, 12, 37, 33, 1, 6, 15]\n",
    "\n",
    "menor_10 = []\n",
    "intermedias = []\n",
    "mayor_20 = []\n",
    "\n",
    "for temp in temperaturas:\n",
    "    if temp <= 10:\n",
    "        menor_10.append(temp)\n",
    "    elif temp >= 11 and temp <= 20:\n",
    "        intermedias.append(temp)\n",
    "    else:\n",
    "        mayor_20.append(temp)\n",
    "print(menor_10)\n",
    "print(intermedias)\n",
    "print(mayor_20)"
   ]
  },
  {
   "cell_type": "code",
   "execution_count": 8,
   "metadata": {},
   "outputs": [
    {
     "name": "stdout",
     "output_type": "stream",
     "text": [
      "2.\n"
     ]
    },
    {
     "data": {
      "text/plain": [
       "[73.4, 53.6, 98.6, 91.4, 33.8, 42.8, 59.0]"
      ]
     },
     "execution_count": 8,
     "metadata": {},
     "output_type": "execute_result"
    }
   ],
   "source": [
    "\n",
    "print(\"2.\")\n",
    "far = []\n",
    "for temp in temperaturas:\n",
    "    far.append((temp * 9 / 5) + 32)\n",
    "\n",
    "far\n"
   ]
  },
  {
   "cell_type": "code",
   "execution_count": null,
   "metadata": {},
   "outputs": [],
   "source": []
  },
  {
   "cell_type": "code",
   "execution_count": null,
   "metadata": {},
   "outputs": [],
   "source": []
  },
  {
   "cell_type": "markdown",
   "metadata": {
    "id": "5PcBreuKcX1-"
   },
   "source": [
    "\n",
    "---\n",
    "\n",
    "\n",
    "## Ejercicios: range\n",
    "\n",
    "- Con un argumento\n",
    "\n",
    "  3. Define e imprime un rango de 0 a 6 (excluido).\n",
    "   \n",
    "- Con dos argumentos\n",
    "\n",
    "  4. Define e imprime un rango de 3 a 6 ambos incluidos.\n",
    "   \n",
    "  5. Define e imprime un rango de 5 a 9 ambos excluidos.\n",
    "\n",
    "  6. Define e imprime un rango de 3 números que empiece en 2.\n",
    "\n",
    "- Con tres argumentos\n",
    "\n",
    "  7. Define e imprime un rango que empiece en 2, aumentando cada paso por 3, que pare antes de llegar al número 13.\n",
    "\n",
    "  8. Define e imprime un rango de impares hasta 10.\n",
    "\n",
    "---\n",
    "\n"
   ]
  },
  {
   "cell_type": "code",
   "execution_count": 11,
   "metadata": {},
   "outputs": [
    {
     "name": "stdout",
     "output_type": "stream",
     "text": [
      "3.\n",
      "0\n",
      "1\n",
      "2\n",
      "3\n",
      "4\n",
      "5\n"
     ]
    }
   ],
   "source": [
    "# 3.\n",
    "print('3.')\n",
    "for x in range(6):\n",
    "     print(x)"
   ]
  },
  {
   "cell_type": "code",
   "execution_count": 15,
   "metadata": {},
   "outputs": [
    {
     "name": "stdout",
     "output_type": "stream",
     "text": [
      "4. ----\n",
      "3\n",
      "4\n",
      "5\n",
      "6\n",
      "5. ----\n",
      "5\n",
      "6\n",
      "7\n",
      "8\n",
      "9\n",
      "6. ---\n",
      "2\n",
      "3\n",
      "4\n"
     ]
    }
   ],
   "source": [
    "# 4.\n",
    "print('4. ----')\n",
    "for x in range(3,7): \n",
    "    print(x)\n",
    "\n",
    "\n",
    "# 5.\n",
    "print('5. ----')\n",
    "for x in range(5,10): \n",
    "    print(x)\n",
    "\n",
    "\n",
    "# 6.\n",
    "print('6. ---')\n",
    "for x in range(2,5): \n",
    "    print(x)\n"
   ]
  },
  {
   "cell_type": "code",
   "execution_count": 16,
   "metadata": {},
   "outputs": [
    {
     "name": "stdout",
     "output_type": "stream",
     "text": [
      "7.----\n",
      "2\n",
      "5\n",
      "8\n",
      "11\n",
      "8.---\n",
      "1\n",
      "3\n",
      "5\n",
      "7\n",
      "9\n"
     ]
    }
   ],
   "source": [
    "# 7.\n",
    "print('7.----')\n",
    "for x in range(2,13,3): \n",
    "    print(x)\n",
    "\n",
    "\n",
    "# 8.\n",
    "print('8.---')\n",
    "for x in range(1,10,2): \n",
    "    print(x)"
   ]
  },
  {
   "cell_type": "markdown",
   "metadata": {
    "id": "5PcBreuKcX1-"
   },
   "source": [
    "---\n",
    "\n",
    "\n",
    "## Ejercicios: list comprehensions\n",
    "\n",
    "- *List comprehensions* sin filtrar\n",
    "\n",
    "  Dada la siguiente lista de números\n",
    "\n",
    "  ```python\n",
    "  lista = [2,45,67,23, 45,66,12,1,34,67,99,98,67,64, 44, 100]\n",
    "  ```\n",
    "\n",
    "  10. Cread una lista nueva donde tengamos los números de la lista `lista` elevados al cuadrado. \n",
    "  11. Cread una lista nueva donde tengamos el resto de la división de cada uno de los números entre 2.  \n",
    "\n",
    "- *List comprehensions* filtradas\n",
    "\n",
    "  12. Cread una lista nueva donde tengamos solo los elementos pares de la lista `lista`. \n",
    "  13. Cread una lista nueva donde tengamos solo los elementos que sean menores que 50. \n",
    "\n",
    "- *List comprehensions* con *if* - *else* \n",
    "\n",
    "  14. Cread una lista donde tengamos los valores \"par\" e \"impar\" en función de los valores de la lista original. \n",
    "---\n"
   ]
  },
  {
   "cell_type": "code",
   "execution_count": 17,
   "metadata": {},
   "outputs": [
    {
     "name": "stdout",
     "output_type": "stream",
     "text": [
      "10. [4, 2025, 4489, 529, 2025, 4356, 144, 1, 1156, 4489, 9801, 9604, 4489, 4096, 1936, 10000]\n",
      "11. [0, 1, 1, 1, 1, 0, 0, 1, 0, 1, 1, 0, 1, 0, 0, 0]\n",
      "12. [2, 66, 12, 34, 98, 64, 44, 100]\n",
      "13. [2, 45, 23, 45, 12, 1, 34, 44]\n",
      "14. ['pares', 'impares', 'impares', 'impares', 'impares', 'pares', 'pares', 'impares', 'pares', 'impares', 'impares', 'pares', 'impares', 'pares', 'pares', 'pares']\n"
     ]
    }
   ],
   "source": [
    "lista = [2,45,67,23, 45,66,12,1,34,67,99,98,67,64, 44, 100]\n",
    "\n",
    "\n",
    "# 10.\n",
    "hola = [num ** 2 for num in lista]\n",
    "print('10.', hola)\n",
    "\n",
    "# 11.\n",
    "nums = [num % 2 for num in lista]\n",
    "print('11.', nums)\n",
    "\n",
    "# 12.\n",
    "hola = [num for num in lista if num % 2== 0]\n",
    "print('12.', hola)\n",
    "\n",
    "# 13.\n",
    "nums = [num for num in lista if num < 50]\n",
    "print('13.', nums)\n",
    "\n",
    "# 14.\n",
    "hola2 = [\"pares\" if num % 2 == 0 else \"impares\" for num in lista]\n",
    "print('14.', hola2)\n",
    "\n",
    "\n"
   ]
  },
  {
   "cell_type": "code",
   "execution_count": null,
   "metadata": {},
   "outputs": [],
   "source": []
  }
 ],
 "metadata": {
  "kernelspec": {
   "display_name": "Python 3.6.9 64-bit",
   "language": "python",
   "name": "python3"
  },
  "language_info": {
   "codemirror_mode": {
    "name": "ipython",
    "version": 3
   },
   "file_extension": ".py",
   "mimetype": "text/x-python",
   "name": "python",
   "nbconvert_exporter": "python",
   "pygments_lexer": "ipython3",
   "version": "3.6.9"
  },
  "orig_nbformat": 4,
  "vscode": {
   "interpreter": {
    "hash": "31f2aee4e71d21fbe5cf8b01ff0e069b9275f58929596ceb00d14d90e3e16cd6"
   }
  }
 },
 "nbformat": 4,
 "nbformat_minor": 2
}
